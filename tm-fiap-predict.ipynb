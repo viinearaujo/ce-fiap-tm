{
 "cells": [
  {
   "cell_type": "code",
   "execution_count": 1,
   "metadata": {},
   "outputs": [],
   "source": [
    "!pip.exe install google-cloud-aiplatform"
   ]
  },
  {
   "cell_type": "code",
   "execution_count": 2,
   "metadata": {},
   "outputs": [],
   "source": [
    "teste = [\n",
    "    {   # Hipotecas / Empréstimos (Mortgages / Loans)\n",
    "        \"descricao_reclamacao_processed\": \n",
    "        \"Fiz um pedido de empréstimo mas os juros aplicados são muito superiores aos que foram inicialmente informados.\"\n",
    "    },\n",
    "    {   # Cartão de crédito / Cartão pré-pago (Credit Card / Prepaid Card)\n",
    "        \"descricao_reclamacao_processed\": \n",
    "        \"Recebi cobranças não autorizadas no meu cartão de crédito, preciso de uma solução urgente.\"\n",
    "    },\n",
    "    {   # Serviços de conta bancária (Banking Account Services)\n",
    "        \"descricao_reclamacao_processed\": \n",
    "        \"Tentei acessar minha conta pelo aplicativo do banco e recebo uma mensagem de erro, não consigo visualizar meu saldo.\"\n",
    "    }\n",
    "]"
   ]
  },
  {
   "cell_type": "code",
   "execution_count": 3,
   "metadata": {},
   "outputs": [],
   "source": [
    "from google.cloud import aiplatform\n",
    "from google.oauth2 import service_account"
   ]
  },
  {
   "cell_type": "code",
   "execution_count": 4,
   "metadata": {},
   "outputs": [],
   "source": [
    "# Path to your service account key file\n",
    "SAC_KEY_FP = \"topic-modelling-fiap-417601-432750c09ce7.json\"\n",
    "SAC_UNIQUEID = \"115532493627132210234\"\n",
    "ENDPOINT_ID = \"6120385296526737408\"\n",
    "\n",
    "# Creating credentials using the key file\n",
    "#my_credentials = service_account.Credentials.from_service_account_file(\n",
    "#    SAC_KEY_FP\n",
    "#)"
   ]
  },
  {
   "cell_type": "code",
   "execution_count": 5,
   "metadata": {},
   "outputs": [],
   "source": [
    "# New way to authenticate without exposing the credentials\n",
    "import base64\n",
    "import json\n",
    "\n",
    "# Load the encoded string from the new text file\n",
    "with open('encoded-auth.txt', 'r') as encoded_file:\n",
    "    encoded_string = encoded_file.read()\n",
    "\n",
    "# Decode the string back to JSON\n",
    "decoded_bytes = base64.b64decode(encoded_string)\n",
    "decoded_json = json.loads(decoded_bytes.decode('utf-8'))\n",
    "\n",
    "# Create credentials from the decoded JSON\n",
    "my_credentials = service_account.Credentials.from_service_account_info(decoded_json)"
   ]
  },
  {
   "cell_type": "code",
   "execution_count": 6,
   "metadata": {},
   "outputs": [],
   "source": [
    "aiplatform.init(\n",
    "    # your Google Cloud Project ID or number\n",
    "    # environment default used is not set\n",
    "    project='topic-modelling-fiap-417601',\n",
    "\n",
    "    # the Vertex AI region you will use\n",
    "    # defaults to us-central1\n",
    "    location='us-central1',\n",
    "\n",
    "    # Google Cloud Storage bucket in same region as location\n",
    "    # used to stage artifacts\n",
    "    staging_bucket='gs://tm-fiap-bucket',\n",
    "\n",
    "    # custom google.auth.credentials.Credentials\n",
    "    # environment default credentials used if not set\n",
    "    credentials=my_credentials,\n",
    "\n",
    "    # customer managed encryption key resource name\n",
    "    # will be applied to all Vertex AI resources if set\n",
    "    encryption_spec_key_name=SAC_UNIQUEID\n",
    ")"
   ]
  },
  {
   "cell_type": "code",
   "execution_count": 7,
   "metadata": {},
   "outputs": [],
   "source": [
    "endpoint = aiplatform.Endpoint(ENDPOINT_ID)"
   ]
  },
  {
   "cell_type": "code",
   "execution_count": 8,
   "metadata": {},
   "outputs": [
    {
     "name": "stdout",
     "output_type": "stream",
     "text": [
      "Prediction results:\n",
      "Serviços de conta bancária: 0.02\n",
      "Cartão de crédito / Cartão pré-pago: 0.03\n",
      "Roubo / Relatório de disputa: 0.03\n",
      "Hipotecas / Empréstimos: 0.90\n",
      "Outros: 0.02\n",
      "-------------------\n",
      "Prediction results:\n",
      "Serviços de conta bancária: 0.07\n",
      "Cartão de crédito / Cartão pré-pago: 0.58\n",
      "Roubo / Relatório de disputa: 0.25\n",
      "Hipotecas / Empréstimos: 0.06\n",
      "Outros: 0.05\n",
      "-------------------\n",
      "Prediction results:\n",
      "Serviços de conta bancária: 0.86\n",
      "Cartão de crédito / Cartão pré-pago: 0.05\n",
      "Roubo / Relatório de disputa: 0.03\n",
      "Hipotecas / Empréstimos: 0.03\n",
      "Outros: 0.02\n",
      "-------------------\n"
     ]
    }
   ],
   "source": [
    "# Make the prediction\n",
    "response = endpoint.predict(instances=teste)\n",
    "\n",
    "# Process the response\n",
    "for prediction in response.predictions:\n",
    "    \n",
    "    # Extract classes and scores from the prediction\n",
    "    predicted_classes = prediction['classes']\n",
    "    predicted_scores = prediction['scores']\n",
    "\n",
    "    # Print each class with its corresponding score\n",
    "    print(\"Prediction results:\")\n",
    "    for predicted_class, score in zip(predicted_classes, predicted_scores):\n",
    "        print(f\"{predicted_class}: {score:.2f}\")\n",
    "    print(\"-------------------\")"
   ]
  }
 ],
 "metadata": {
  "kernelspec": {
   "display_name": "my-env",
   "language": "python",
   "name": "python3"
  },
  "language_info": {
   "codemirror_mode": {
    "name": "ipython",
    "version": 3
   },
   "file_extension": ".py",
   "mimetype": "text/x-python",
   "name": "python",
   "nbconvert_exporter": "python",
   "pygments_lexer": "ipython3",
   "version": "3.11.8"
  }
 },
 "nbformat": 4,
 "nbformat_minor": 2
}
