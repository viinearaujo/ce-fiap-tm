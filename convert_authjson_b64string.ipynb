{
 "cells": [
  {
   "cell_type": "code",
   "execution_count": 2,
   "metadata": {},
   "outputs": [
    {
     "name": "stdout",
     "output_type": "stream",
     "text": [
      "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\n"
     ]
    }
   ],
   "source": [
    "import base64\n",
    "\n",
    "with open(\"C:/Users/arauj/ce-fiap-tm/topic-modelling-fiap-417601-432750c09ce7.json\", 'rb') as auth_file:\n",
    "    encoded_string = base64.b64encode(auth_file.read()).decode('utf-8')\n",
    "\n",
    "print(encoded_string)"
   ]
  },
  {
   "cell_type": "code",
   "execution_count": 3,
   "metadata": {},
   "outputs": [],
   "source": [
    "# Write the encoded string to a new text file\n",
    "with open('encoded-auth.txt', 'w') as encoded_file:\n",
    "    encoded_file.write(encoded_string)"
   ]
  }
 ],
 "metadata": {
  "kernelspec": {
   "display_name": "my-env",
   "language": "python",
   "name": "python3"
  },
  "language_info": {
   "codemirror_mode": {
    "name": "ipython",
    "version": 3
   },
   "file_extension": ".py",
   "mimetype": "text/x-python",
   "name": "python",
   "nbconvert_exporter": "python",
   "pygments_lexer": "ipython3",
   "version": "3.11.8"
  }
 },
 "nbformat": 4,
 "nbformat_minor": 2
}
